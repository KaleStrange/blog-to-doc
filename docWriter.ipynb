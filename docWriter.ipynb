{
 "cells": [
  {
   "cell_type": "markdown",
   "metadata": {},
   "source": [
    "Import Data"
   ]
  },
  {
   "cell_type": "code",
   "execution_count": 1,
   "metadata": {},
   "outputs": [],
   "source": [
    "import wpparser\n",
    "#down_path = \"C:\\\\Users\\\\kales\\\\Downloads\\\\\"\n",
    "#test_data = wpparser.parse(down_path + \"tear2023.wordpress.com-2023-12-15-19_01_51-1qoarrtidqhyn2xegrnqyfjiface6xv2\\\\tear2023.wordpress.com-2023-12-15-19_01_35\\\\text.xml\")\n",
    "data = wpparser.parse(\".\\\\tear2023.wordpress.com-2023-12-15-19_01_51-1qoarrtidqhyn2xegrnqyfjiface6xv2\\\\tear2023.wordpress.com-2023-12-15-19_01_35\\\\tear2023.wordpress.2023-12-15.000.xml\")"
   ]
  },
  {
   "cell_type": "markdown",
   "metadata": {},
   "source": [
    "Create Image Data Dictionary "
   ]
  },
  {
   "cell_type": "code",
   "execution_count": 2,
   "metadata": {},
   "outputs": [],
   "source": [
    "import re\n",
    "img_pat = r'files.wordpress.com/(.*?)\"'\n",
    "img_path_re = re.compile(img_pat)\n",
    "all_img_data = []\n",
    "for post in data['posts']:\n",
    "    if post['content'] is None:\n",
    "        cont = img_path_re.findall(post['guid'] + '\\\"', re.DOTALL)\n",
    "        img_data = {\n",
    "            'id': post['post_id'],\n",
    "            'width': post['postmeta']['attachment_metadata'][b'width'],\n",
    "            'height': post['postmeta']['attachment_metadata'][b'height'],\n",
    "            'path': cont\n",
    "        }\n",
    "        all_img_data.append(img_data)"
   ]
  },
  {
   "cell_type": "markdown",
   "metadata": {},
   "source": [
    "Create Post Content Dictionary"
   ]
  },
  {
   "cell_type": "code",
   "execution_count": 3,
   "metadata": {},
   "outputs": [],
   "source": [
    "import re\n",
    "\n",
    "paragraphs = r'<p>(.*?)</p>'\n",
    "img = r'<img\\s+src=\"https://tear2023.files.wordpress.com/(.*?)\\?w='\n",
    "img_re = re.compile(img)\n",
    "regex =  r'<p>(.*?)</p>|<img\\s+src=\"https://tear2023.files.wordpress.com/(.*?)\\?w='\n",
    "all_re = re.compile(regex)\n",
    "post_content = \"\"\n",
    "posts_content = []\n",
    "para_re = re.compile(paragraphs)\n",
    "for post in data['posts']:\n",
    "    if (post['content'] is not None):\n",
    "        fImage_id = \"\"\n",
    "        try:\n",
    "            fImage_id = post['postmeta']['featured_img_id']\n",
    "        except KeyError:\n",
    "            fImage_id = \"\"\n",
    "        post_content = {\n",
    "            'title': post['title'],\n",
    "            'content': all_re.findall(post['content'], re.DOTALL),\n",
    "            'post_id': post['post_id'],\n",
    "            'featured_img': fImage_id,\n",
    "        }\n",
    "        posts_content.append(post_content)\n",
    "        #if (post['title'] == \"Day 100/101: Finale\"):\n",
    "            #print(post['content'])\n",
    "            #print(post_content['content'][1][1])\n",
    "#print(data['posts'][-5])\n",
    "#print(posts_content[5])"
   ]
  },
  {
   "cell_type": "markdown",
   "metadata": {},
   "source": [
    "Print Data to Docx"
   ]
  },
  {
   "cell_type": "code",
   "execution_count": 5,
   "metadata": {},
   "outputs": [
    {
     "name": "stdout",
     "output_type": "stream",
     "text": [
      "About\n",
      "T-minus 24 Hours\n",
      "The final supper\n",
      "Seattle to London ✈️\n",
      "Shep out\n",
      "Day 1: Reunions and Bulgaria\n"
     ]
    },
    {
     "ename": "KeyboardInterrupt",
     "evalue": "",
     "output_type": "error",
     "traceback": [
      "\u001b[1;31m---------------------------------------------------------------------------\u001b[0m",
      "\u001b[1;31mKeyboardInterrupt\u001b[0m                         Traceback (most recent call last)",
      "Cell \u001b[1;32mIn[5], line 31\u001b[0m\n\u001b[0;32m     28\u001b[0m             \u001b[38;5;28;01melse\u001b[39;00m: \n\u001b[0;32m     29\u001b[0m                 \u001b[38;5;66;03m#print(content[1])\u001b[39;00m\n\u001b[0;32m     30\u001b[0m                 \u001b[38;5;28;01mif\u001b[39;00m \u001b[38;5;129;01mnot\u001b[39;00m (content[\u001b[38;5;241m1\u001b[39m] \u001b[38;5;241m==\u001b[39m fImagePath):\n\u001b[1;32m---> 31\u001b[0m                     \u001b[43mdoc\u001b[49m\u001b[38;5;241;43m.\u001b[39;49m\u001b[43madd_picture\u001b[49m\u001b[43m(\u001b[49m\u001b[43m(\u001b[49m\u001b[43mimg_path\u001b[49m\u001b[43m \u001b[49m\u001b[38;5;241;43m+\u001b[39;49m\u001b[43m \u001b[49m\u001b[43mcontent\u001b[49m\u001b[43m[\u001b[49m\u001b[38;5;241;43m1\u001b[39;49m\u001b[43m]\u001b[49m\u001b[43m)\u001b[49m\u001b[43m,\u001b[49m\u001b[43m \u001b[49m\u001b[43mwidth\u001b[49m\u001b[38;5;241;43m=\u001b[39;49m\u001b[43mInches\u001b[49m\u001b[43m(\u001b[49m\u001b[38;5;241;43m2.5\u001b[39;49m\u001b[43m)\u001b[49m\u001b[43m)\u001b[49m\n\u001b[0;32m     32\u001b[0m \u001b[38;5;66;03m#doc.update_fields()\u001b[39;00m\n\u001b[0;32m     33\u001b[0m doc\u001b[38;5;241m.\u001b[39msave(\u001b[38;5;124m\"\u001b[39m\u001b[38;5;124mout.docx\u001b[39m\u001b[38;5;124m\"\u001b[39m)\n",
      "File \u001b[1;32mc:\\Python311\\Lib\\site-packages\\docx\\document.py:90\u001b[0m, in \u001b[0;36mDocument.add_picture\u001b[1;34m(self, image_path_or_stream, width, height)\u001b[0m\n\u001b[0;32m     79\u001b[0m \u001b[38;5;250m\u001b[39m\u001b[38;5;124;03m\"\"\"Return new picture shape added in its own paragraph at end of the document.\u001b[39;00m\n\u001b[0;32m     80\u001b[0m \n\u001b[0;32m     81\u001b[0m \u001b[38;5;124;03mThe picture contains the image at `image_path_or_stream`, scaled based on\u001b[39;00m\n\u001b[1;32m   (...)\u001b[0m\n\u001b[0;32m     87\u001b[0m \u001b[38;5;124;03mif no value is specified, as is often the case.\u001b[39;00m\n\u001b[0;32m     88\u001b[0m \u001b[38;5;124;03m\"\"\"\u001b[39;00m\n\u001b[0;32m     89\u001b[0m run \u001b[38;5;241m=\u001b[39m \u001b[38;5;28mself\u001b[39m\u001b[38;5;241m.\u001b[39madd_paragraph()\u001b[38;5;241m.\u001b[39madd_run()\n\u001b[1;32m---> 90\u001b[0m \u001b[38;5;28;01mreturn\u001b[39;00m \u001b[43mrun\u001b[49m\u001b[38;5;241;43m.\u001b[39;49m\u001b[43madd_picture\u001b[49m\u001b[43m(\u001b[49m\u001b[43mimage_path_or_stream\u001b[49m\u001b[43m,\u001b[49m\u001b[43m \u001b[49m\u001b[43mwidth\u001b[49m\u001b[43m,\u001b[49m\u001b[43m \u001b[49m\u001b[43mheight\u001b[49m\u001b[43m)\u001b[49m\n",
      "File \u001b[1;32mc:\\Python311\\Lib\\site-packages\\docx\\text\\run.py:79\u001b[0m, in \u001b[0;36mRun.add_picture\u001b[1;34m(self, image_path_or_stream, width, height)\u001b[0m\n\u001b[0;32m     59\u001b[0m \u001b[38;5;28;01mdef\u001b[39;00m \u001b[38;5;21madd_picture\u001b[39m(\n\u001b[0;32m     60\u001b[0m     \u001b[38;5;28mself\u001b[39m,\n\u001b[0;32m     61\u001b[0m     image_path_or_stream: \u001b[38;5;28mstr\u001b[39m \u001b[38;5;241m|\u001b[39m IO[\u001b[38;5;28mbytes\u001b[39m],\n\u001b[0;32m     62\u001b[0m     width: Length \u001b[38;5;241m|\u001b[39m \u001b[38;5;28;01mNone\u001b[39;00m \u001b[38;5;241m=\u001b[39m \u001b[38;5;28;01mNone\u001b[39;00m,\n\u001b[0;32m     63\u001b[0m     height: Length \u001b[38;5;241m|\u001b[39m \u001b[38;5;28;01mNone\u001b[39;00m \u001b[38;5;241m=\u001b[39m \u001b[38;5;28;01mNone\u001b[39;00m,\n\u001b[0;32m     64\u001b[0m ) \u001b[38;5;241m-\u001b[39m\u001b[38;5;241m>\u001b[39m InlineShape:\n\u001b[0;32m     65\u001b[0m \u001b[38;5;250m    \u001b[39m\u001b[38;5;124;03m\"\"\"Return |InlineShape| containing image identified by `image_path_or_stream`.\u001b[39;00m\n\u001b[0;32m     66\u001b[0m \n\u001b[0;32m     67\u001b[0m \u001b[38;5;124;03m    The picture is added to the end of this run.\u001b[39;00m\n\u001b[1;32m   (...)\u001b[0m\n\u001b[0;32m     77\u001b[0m \u001b[38;5;124;03m    value is specified, as is often the case.\u001b[39;00m\n\u001b[0;32m     78\u001b[0m \u001b[38;5;124;03m    \"\"\"\u001b[39;00m\n\u001b[1;32m---> 79\u001b[0m     inline \u001b[38;5;241m=\u001b[39m \u001b[38;5;28;43mself\u001b[39;49m\u001b[38;5;241;43m.\u001b[39;49m\u001b[43mpart\u001b[49m\u001b[38;5;241;43m.\u001b[39;49m\u001b[43mnew_pic_inline\u001b[49m\u001b[43m(\u001b[49m\u001b[43mimage_path_or_stream\u001b[49m\u001b[43m,\u001b[49m\u001b[43m \u001b[49m\u001b[43mwidth\u001b[49m\u001b[43m,\u001b[49m\u001b[43m \u001b[49m\u001b[43mheight\u001b[49m\u001b[43m)\u001b[49m\n\u001b[0;32m     80\u001b[0m     \u001b[38;5;28mself\u001b[39m\u001b[38;5;241m.\u001b[39m_r\u001b[38;5;241m.\u001b[39madd_drawing(inline)\n\u001b[0;32m     81\u001b[0m     \u001b[38;5;28;01mreturn\u001b[39;00m InlineShape(inline)\n",
      "File \u001b[1;32mc:\\Python311\\Lib\\site-packages\\docx\\parts\\story.py:71\u001b[0m, in \u001b[0;36mStoryPart.new_pic_inline\u001b[1;34m(self, image_descriptor, width, height)\u001b[0m\n\u001b[0;32m     60\u001b[0m \u001b[38;5;28;01mdef\u001b[39;00m \u001b[38;5;21mnew_pic_inline\u001b[39m(\n\u001b[0;32m     61\u001b[0m     \u001b[38;5;28mself\u001b[39m,\n\u001b[0;32m     62\u001b[0m     image_descriptor: \u001b[38;5;28mstr\u001b[39m \u001b[38;5;241m|\u001b[39m IO[\u001b[38;5;28mbytes\u001b[39m],\n\u001b[0;32m     63\u001b[0m     width: Length \u001b[38;5;241m|\u001b[39m \u001b[38;5;28;01mNone\u001b[39;00m \u001b[38;5;241m=\u001b[39m \u001b[38;5;28;01mNone\u001b[39;00m,\n\u001b[0;32m     64\u001b[0m     height: Length \u001b[38;5;241m|\u001b[39m \u001b[38;5;28;01mNone\u001b[39;00m \u001b[38;5;241m=\u001b[39m \u001b[38;5;28;01mNone\u001b[39;00m,\n\u001b[0;32m     65\u001b[0m ) \u001b[38;5;241m-\u001b[39m\u001b[38;5;241m>\u001b[39m CT_Inline:\n\u001b[0;32m     66\u001b[0m \u001b[38;5;250m    \u001b[39m\u001b[38;5;124;03m\"\"\"Return a newly-created `w:inline` element.\u001b[39;00m\n\u001b[0;32m     67\u001b[0m \n\u001b[0;32m     68\u001b[0m \u001b[38;5;124;03m    The element contains the image specified by `image_descriptor` and is scaled\u001b[39;00m\n\u001b[0;32m     69\u001b[0m \u001b[38;5;124;03m    based on the values of `width` and `height`.\u001b[39;00m\n\u001b[0;32m     70\u001b[0m \u001b[38;5;124;03m    \"\"\"\u001b[39;00m\n\u001b[1;32m---> 71\u001b[0m     rId, image \u001b[38;5;241m=\u001b[39m \u001b[38;5;28;43mself\u001b[39;49m\u001b[38;5;241;43m.\u001b[39;49m\u001b[43mget_or_add_image\u001b[49m\u001b[43m(\u001b[49m\u001b[43mimage_descriptor\u001b[49m\u001b[43m)\u001b[49m\n\u001b[0;32m     72\u001b[0m     cx, cy \u001b[38;5;241m=\u001b[39m image\u001b[38;5;241m.\u001b[39mscaled_dimensions(width, height)\n\u001b[0;32m     73\u001b[0m     shape_id, filename \u001b[38;5;241m=\u001b[39m \u001b[38;5;28mself\u001b[39m\u001b[38;5;241m.\u001b[39mnext_id, image\u001b[38;5;241m.\u001b[39mfilename\n",
      "File \u001b[1;32mc:\\Python311\\Lib\\site-packages\\docx\\parts\\story.py:37\u001b[0m, in \u001b[0;36mStoryPart.get_or_add_image\u001b[1;34m(self, image_descriptor)\u001b[0m\n\u001b[0;32m     35\u001b[0m package \u001b[38;5;241m=\u001b[39m \u001b[38;5;28mself\u001b[39m\u001b[38;5;241m.\u001b[39m_package\n\u001b[0;32m     36\u001b[0m \u001b[38;5;28;01massert\u001b[39;00m package \u001b[38;5;129;01mis\u001b[39;00m \u001b[38;5;129;01mnot\u001b[39;00m \u001b[38;5;28;01mNone\u001b[39;00m\n\u001b[1;32m---> 37\u001b[0m image_part \u001b[38;5;241m=\u001b[39m \u001b[43mpackage\u001b[49m\u001b[38;5;241;43m.\u001b[39;49m\u001b[43mget_or_add_image_part\u001b[49m\u001b[43m(\u001b[49m\u001b[43mimage_descriptor\u001b[49m\u001b[43m)\u001b[49m\n\u001b[0;32m     38\u001b[0m rId \u001b[38;5;241m=\u001b[39m \u001b[38;5;28mself\u001b[39m\u001b[38;5;241m.\u001b[39mrelate_to(image_part, RT\u001b[38;5;241m.\u001b[39mIMAGE)\n\u001b[0;32m     39\u001b[0m \u001b[38;5;28;01mreturn\u001b[39;00m rId, image_part\u001b[38;5;241m.\u001b[39mimage\n",
      "File \u001b[1;32mc:\\Python311\\Lib\\site-packages\\docx\\package.py:31\u001b[0m, in \u001b[0;36mPackage.get_or_add_image_part\u001b[1;34m(self, image_descriptor)\u001b[0m\n\u001b[0;32m     25\u001b[0m \u001b[38;5;28;01mdef\u001b[39;00m \u001b[38;5;21mget_or_add_image_part\u001b[39m(\u001b[38;5;28mself\u001b[39m, image_descriptor: \u001b[38;5;28mstr\u001b[39m \u001b[38;5;241m|\u001b[39m IO[\u001b[38;5;28mbytes\u001b[39m]) \u001b[38;5;241m-\u001b[39m\u001b[38;5;241m>\u001b[39m ImagePart:\n\u001b[0;32m     26\u001b[0m \u001b[38;5;250m    \u001b[39m\u001b[38;5;124;03m\"\"\"Return |ImagePart| containing image specified by `image_descriptor`.\u001b[39;00m\n\u001b[0;32m     27\u001b[0m \n\u001b[0;32m     28\u001b[0m \u001b[38;5;124;03m    The image-part is newly created if a matching one is not already present in the\u001b[39;00m\n\u001b[0;32m     29\u001b[0m \u001b[38;5;124;03m    collection.\u001b[39;00m\n\u001b[0;32m     30\u001b[0m \u001b[38;5;124;03m    \"\"\"\u001b[39;00m\n\u001b[1;32m---> 31\u001b[0m     \u001b[38;5;28;01mreturn\u001b[39;00m \u001b[38;5;28;43mself\u001b[39;49m\u001b[38;5;241;43m.\u001b[39;49m\u001b[43mimage_parts\u001b[49m\u001b[38;5;241;43m.\u001b[39;49m\u001b[43mget_or_add_image_part\u001b[49m\u001b[43m(\u001b[49m\u001b[43mimage_descriptor\u001b[49m\u001b[43m)\u001b[49m\n",
      "File \u001b[1;32mc:\\Python311\\Lib\\site-packages\\docx\\package.py:75\u001b[0m, in \u001b[0;36mImageParts.get_or_add_image_part\u001b[1;34m(self, image_descriptor)\u001b[0m\n\u001b[0;32m     69\u001b[0m \u001b[38;5;250m\u001b[39m\u001b[38;5;124;03m\"\"\"Return |ImagePart| object containing image identified by `image_descriptor`.\u001b[39;00m\n\u001b[0;32m     70\u001b[0m \n\u001b[0;32m     71\u001b[0m \u001b[38;5;124;03mThe image-part is newly created if a matching one is not present in the\u001b[39;00m\n\u001b[0;32m     72\u001b[0m \u001b[38;5;124;03mcollection.\u001b[39;00m\n\u001b[0;32m     73\u001b[0m \u001b[38;5;124;03m\"\"\"\u001b[39;00m\n\u001b[0;32m     74\u001b[0m image \u001b[38;5;241m=\u001b[39m Image\u001b[38;5;241m.\u001b[39mfrom_file(image_descriptor)\n\u001b[1;32m---> 75\u001b[0m matching_image_part \u001b[38;5;241m=\u001b[39m \u001b[38;5;28;43mself\u001b[39;49m\u001b[38;5;241;43m.\u001b[39;49m\u001b[43m_get_by_sha1\u001b[49m\u001b[43m(\u001b[49m\u001b[43mimage\u001b[49m\u001b[38;5;241;43m.\u001b[39;49m\u001b[43msha1\u001b[49m\u001b[43m)\u001b[49m\n\u001b[0;32m     76\u001b[0m \u001b[38;5;28;01mif\u001b[39;00m matching_image_part \u001b[38;5;129;01mis\u001b[39;00m \u001b[38;5;129;01mnot\u001b[39;00m \u001b[38;5;28;01mNone\u001b[39;00m:\n\u001b[0;32m     77\u001b[0m     \u001b[38;5;28;01mreturn\u001b[39;00m matching_image_part\n",
      "File \u001b[1;32mc:\\Python311\\Lib\\site-packages\\docx\\package.py:92\u001b[0m, in \u001b[0;36mImageParts._get_by_sha1\u001b[1;34m(self, sha1)\u001b[0m\n\u001b[0;32m     89\u001b[0m \u001b[38;5;250m\u001b[39m\u001b[38;5;124;03m\"\"\"Return the image part in this collection having a SHA1 hash matching `sha1`,\u001b[39;00m\n\u001b[0;32m     90\u001b[0m \u001b[38;5;124;03mor |None| if not found.\"\"\"\u001b[39;00m\n\u001b[0;32m     91\u001b[0m \u001b[38;5;28;01mfor\u001b[39;00m image_part \u001b[38;5;129;01min\u001b[39;00m \u001b[38;5;28mself\u001b[39m\u001b[38;5;241m.\u001b[39m_image_parts:\n\u001b[1;32m---> 92\u001b[0m     \u001b[38;5;28;01mif\u001b[39;00m \u001b[43mimage_part\u001b[49m\u001b[38;5;241;43m.\u001b[39;49m\u001b[43msha1\u001b[49m \u001b[38;5;241m==\u001b[39m sha1:\n\u001b[0;32m     93\u001b[0m         \u001b[38;5;28;01mreturn\u001b[39;00m image_part\n\u001b[0;32m     94\u001b[0m \u001b[38;5;28;01mreturn\u001b[39;00m \u001b[38;5;28;01mNone\u001b[39;00m\n",
      "File \u001b[1;32mc:\\Python311\\Lib\\site-packages\\docx\\parts\\image.py:75\u001b[0m, in \u001b[0;36mImagePart.sha1\u001b[1;34m(self)\u001b[0m\n\u001b[0;32m     72\u001b[0m \u001b[38;5;129m@property\u001b[39m\n\u001b[0;32m     73\u001b[0m \u001b[38;5;28;01mdef\u001b[39;00m \u001b[38;5;21msha1\u001b[39m(\u001b[38;5;28mself\u001b[39m):\n\u001b[0;32m     74\u001b[0m \u001b[38;5;250m    \u001b[39m\u001b[38;5;124;03m\"\"\"SHA1 hash digest of the blob of this image part.\"\"\"\u001b[39;00m\n\u001b[1;32m---> 75\u001b[0m     \u001b[38;5;28;01mreturn\u001b[39;00m hashlib\u001b[38;5;241m.\u001b[39msha1(\u001b[38;5;28mself\u001b[39m\u001b[38;5;241m.\u001b[39m_blob)\u001b[38;5;241m.\u001b[39mhexdigest()\n",
      "\u001b[1;31mKeyboardInterrupt\u001b[0m: "
     ]
    }
   ],
   "source": [
    "from docx import Document\n",
    "from docx.shared import Inches\n",
    "#img_path = \"C:/Users/kales/Downloads/media-export-220074516-from-0-to-2745/\"\n",
    "img_path = \"./media-export-220074516-from-0-to-2745/\"\n",
    "doc = Document()\n",
    "doc.add_heading('Tear 2023', 0)\n",
    "doc.add_heading('By: Hunter Hatzenbeler, Kale Strange, Sam Shepard, and Sophie Harris', level=1)\n",
    "for post in posts_content[0:8]:\n",
    "    #print(post)\n",
    "    if not ((post['title'] == 'Dinaric Alps Gallery') or (post['title'] == 'Swiss Alps Gallery')):\n",
    "        doc.add_section()\n",
    "        doc.add_heading(post['title'], level=1)\n",
    "        #if len(post['content']) > 1:\n",
    "        #    if post['content'][1] == \"\":\n",
    "        #        builder.writeln(post['content'][0])\n",
    "        print(post['title'])\n",
    "        fImagePath = \"\"\n",
    "        if not (post['featured_img'] == \"\"):\n",
    "            imgID = post['featured_img']\n",
    "            for img in all_img_data:\n",
    "                if (img['id'] == imgID):\n",
    "                    fImagePath = img['path'][0]\n",
    "                    doc.add_picture((img_path + fImagePath), width=Inches(4))\n",
    "                    break\n",
    "        for content in post['content']:\n",
    "            if content[1] == \"\":\n",
    "                doc.add_paragraph(content[0])\n",
    "            else: \n",
    "                #print(content[1])\n",
    "                if not (content[1] == fImagePath):\n",
    "                    doc.add_picture((img_path + content[1]), width=Inches(2.5))\n",
    "#doc.update_fields()\n",
    "doc.save(\"out.docx\")"
   ]
  }
 ],
 "metadata": {
  "kernelspec": {
   "display_name": "Python 3",
   "language": "python",
   "name": "python3"
  },
  "language_info": {
   "codemirror_mode": {
    "name": "ipython",
    "version": 3
   },
   "file_extension": ".py",
   "mimetype": "text/x-python",
   "name": "python",
   "nbconvert_exporter": "python",
   "pygments_lexer": "ipython3",
   "version": "3.11.3"
  }
 },
 "nbformat": 4,
 "nbformat_minor": 2
}
