{
 "cells": [
  {
   "cell_type": "markdown",
   "metadata": {},
   "source": [
    "Import Data"
   ]
  },
  {
   "cell_type": "code",
   "execution_count": 1,
   "metadata": {},
   "outputs": [],
   "source": [
    "import wpparser\n",
    "down_path = \"C:\\\\Users\\\\kales\\\\Downloads\\\\\"\n",
    "#test_data = wpparser.parse(down_path + \"tear2023.wordpress.com-2023-12-15-19_01_51-1qoarrtidqhyn2xegrnqyfjiface6xv2\\\\tear2023.wordpress.com-2023-12-15-19_01_35\\\\text.xml\")\n",
    "data = wpparser.parse(down_path + \"tear2023.wordpress.com-2023-12-15-19_01_51-1qoarrtidqhyn2xegrnqyfjiface6xv2\\\\tear2023.wordpress.com-2023-12-15-19_01_35\\\\tear2023.wordpress.2023-12-15.000.xml\")"
   ]
  },
  {
   "cell_type": "markdown",
   "metadata": {},
   "source": [
    "Create Image Data Dictionary "
   ]
  },
  {
   "cell_type": "code",
   "execution_count": 2,
   "metadata": {},
   "outputs": [],
   "source": [
    "import re\n",
    "img_pat = r'files.wordpress.com/(.*?)\"'\n",
    "img_path_re = re.compile(img_pat)\n",
    "all_img_data = []\n",
    "for post in data['posts']:\n",
    "    if post['content'] is None:\n",
    "        cont = img_path_re.findall(post['guid'] + '\\\"', re.DOTALL)\n",
    "        img_data = {\n",
    "            'id': post['post_id'],\n",
    "            'width': post['postmeta']['attachment_metadata'][b'width'],\n",
    "            'height': post['postmeta']['attachment_metadata'][b'height'],\n",
    "            'path': cont\n",
    "        }\n",
    "        all_img_data.append(img_data)"
   ]
  },
  {
   "cell_type": "markdown",
   "metadata": {},
   "source": [
    "Create Post Content Dictionary"
   ]
  },
  {
   "cell_type": "code",
   "execution_count": 17,
   "metadata": {},
   "outputs": [],
   "source": [
    "import re\n",
    "\n",
    "paragraphs = r'<p>(.*?)</p>'\n",
    "img = r'<img\\s+src=\"https://tear2023.files.wordpress.com/(.*?)\\?w='\n",
    "img_re = re.compile(img)\n",
    "regex =  r'<p>(.*?)</p>|<img\\s+src=\"https://tear2023.files.wordpress.com/(.*?)\\?w='\n",
    "all_re = re.compile(regex)\n",
    "post_content = \"\"\n",
    "posts_content = []\n",
    "para_re = re.compile(paragraphs)\n",
    "for post in data['posts']:\n",
    "    if (post['content'] is not None):\n",
    "        fImage_id = \"\"\n",
    "        try:\n",
    "            fImage_id = post['postmeta']['featured_img_id']\n",
    "        except KeyError:\n",
    "            fImage_id = \"\"\n",
    "        post_content = {\n",
    "            'title': post['title'],\n",
    "            'content': all_re.findall(post['content'], re.DOTALL),\n",
    "            'post_id': post['post_id'],\n",
    "            'featured_img': fImage_id,\n",
    "        }\n",
    "        posts_content.append(post_content)\n",
    "        #if (post['title'] == \"Day 100/101: Finale\"):\n",
    "            #print(post['content'])\n",
    "            #print(post_content['content'][1][1])\n",
    "#print(data['posts'][-5])\n",
    "#print(posts_content[5])"
   ]
  },
  {
   "cell_type": "markdown",
   "metadata": {},
   "source": [
    "Print Data to Docx"
   ]
  },
  {
   "cell_type": "code",
   "execution_count": 15,
   "metadata": {},
   "outputs": [
    {
     "name": "stdout",
     "output_type": "stream",
     "text": [
      "About\n",
      "T-minus 24 Hours\n",
      "The final supper\n",
      "Seattle to London ✈️\n",
      "Shep out\n",
      "Day 1: Reunions and Bulgaria\n"
     ]
    }
   ],
   "source": [
    "from docx import Document\n",
    "from docx.shared import Inches\n",
    "img_path = \"C:/Users/kales/Downloads/media-export-220074516-from-0-to-2745/\"\n",
    "doc = Document()\n",
    "doc.add_heading('Tear 2023', 0)\n",
    "doc.add_heading('By: Hunter Hatzenbeler, Kale Strange, Sam Shepard, and Sophie Harris', level=1)\n",
    "for post in posts_content[0:8]:\n",
    "    #print(post)\n",
    "    if not ((post['title'] == 'Dinaric Alps Gallery') or (post['title'] == 'Swiss Alps Gallery')):\n",
    "        doc.add_section()\n",
    "        doc.add_heading(post['title'], level=1)\n",
    "        #if len(post['content']) > 1:\n",
    "        #    if post['content'][1] == \"\":\n",
    "        #        builder.writeln(post['content'][0])\n",
    "        print(post['title'])\n",
    "        fImagePath = \"\"\n",
    "        if not (post['featured_img'] == \"\"):\n",
    "            imgID = post['featured_img']\n",
    "            for img in all_img_data:\n",
    "                if (img['id'] == imgID):\n",
    "                    fImagePath = img['path'][0]\n",
    "                    doc.add_picture((img_path + fImagePath), width=Inches(4))\n",
    "                    break\n",
    "        for content in post['content']:\n",
    "            if content[1] == \"\":\n",
    "                doc.add_paragraph(content[0])\n",
    "            else: \n",
    "                #print(content[1])\n",
    "                if not (content[1] == fImagePath):\n",
    "                    doc.add_picture((img_path + content[1]), width=Inches(2.5))\n",
    "#doc.update_fields()\n",
    "doc.save(\"out.docx\")"
   ]
  }
 ],
 "metadata": {
  "kernelspec": {
   "display_name": "Python 3",
   "language": "python",
   "name": "python3"
  },
  "language_info": {
   "codemirror_mode": {
    "name": "ipython",
    "version": 3
   },
   "file_extension": ".py",
   "mimetype": "text/x-python",
   "name": "python",
   "nbconvert_exporter": "python",
   "pygments_lexer": "ipython3",
   "version": "3.11.3"
  }
 },
 "nbformat": 4,
 "nbformat_minor": 2
}
