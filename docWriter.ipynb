{
 "cells": [
  {
   "cell_type": "markdown",
   "metadata": {},
   "source": [
    "Import Data"
   ]
  },
  {
   "cell_type": "code",
   "execution_count": 65,
   "metadata": {},
   "outputs": [],
   "source": [
    "import wpparser\n",
    "#down_path = \"C:\\\\Users\\\\kales\\\\Downloads\\\\\"\n",
    "#test_data = wpparser.parse(down_path + \"tear2023.wordpress.com-2023-12-15-19_01_51-1qoarrtidqhyn2xegrnqyfjiface6xv2\\\\tear2023.wordpress.com-2023-12-15-19_01_35\\\\text.xml\")\n",
    "data = wpparser.parse(\".\\\\tear2023.wordpress.com-2023-12-15-19_01_51-1qoarrtidqhyn2xegrnqyfjiface6xv2\\\\tear2023.wordpress.com-2023-12-15-19_01_35\\\\tear2023.wordpress.2023-12-15.000.xml\")"
   ]
  },
  {
   "cell_type": "markdown",
   "metadata": {},
   "source": [
    "Create Image Data Dictionary "
   ]
  },
  {
   "cell_type": "code",
   "execution_count": 66,
   "metadata": {},
   "outputs": [],
   "source": [
    "import re\n",
    "img_pat = r'files.wordpress.com/(.*?)\"'\n",
    "img_path_re = re.compile(img_pat)\n",
    "all_img_data = []\n",
    "for post in data['posts']:\n",
    "    if post['content'] is None:\n",
    "        cont = img_path_re.findall(post['guid'] + '\\\"', re.DOTALL)\n",
    "        img_data = {\n",
    "            'id': post['post_id'],\n",
    "            'width': post['postmeta']['attachment_metadata'][b'width'],\n",
    "            'height': post['postmeta']['attachment_metadata'][b'height'],\n",
    "            'path': cont[0]\n",
    "        }\n",
    "        all_img_data.append(img_data)"
   ]
  },
  {
   "cell_type": "markdown",
   "metadata": {},
   "source": [
    "Create Post Content Dictionary"
   ]
  },
  {
   "cell_type": "code",
   "execution_count": 67,
   "metadata": {},
   "outputs": [
    {
     "name": "stdout",
     "output_type": "stream",
     "text": [
      "108\n"
     ]
    }
   ],
   "source": [
    "import re\n",
    "\n",
    "paragraphs = r'<p>(.*?)</p>'\n",
    "img = r'<img\\s+src=\"https://tear2023.files.wordpress.com/(.*?)\\?w='\n",
    "img_re = re.compile(img)\n",
    "#regex =  r'<p>(.*?)</p>|<img\\s+src=\"https://tear2023.files.wordpress.com/(.*?)\\?w='\n",
    "regex =  r'<p>(.*?)</p>|class=\"wp-image-(.*?)\" /'\n",
    "all_re = re.compile(regex)\n",
    "post_content = \"\"\n",
    "posts_content = []\n",
    "para_re = re.compile(paragraphs)\n",
    "for post in data['posts']:\n",
    "    if (post['content'] is not None):\n",
    "        fImage_id = \"\"\n",
    "        try:\n",
    "            fImage_id = post['postmeta']['featured_img_id']\n",
    "        except KeyError:\n",
    "            fImage_id = \"\"\n",
    "        post_content = {\n",
    "            'title': post['title'],\n",
    "            'content': all_re.findall(post['content'], re.DOTALL),\n",
    "            'post_id': post['post_id'],\n",
    "            'featured_img': fImage_id,\n",
    "        }\n",
    "        posts_content.append(post_content)\n",
    "        #if (post['title'] == \"Day 100/101: Finale\"):\n",
    "            #print(post['content'])\n",
    "            #print(post_content['content'][1][1])\n",
    "#print(data['posts'][-5])\n",
    "print(posts_content[5]['content'][4][1])"
   ]
  },
  {
   "cell_type": "code",
   "execution_count": 68,
   "metadata": {},
   "outputs": [],
   "source": [
    "up_posts_content = []\n",
    "for post in posts_content:\n",
    "    new_post = post.copy()\n",
    "    obj_num = 0\n",
    "    new_post['content'] = []\n",
    "    for obj in post['content']:\n",
    "        if not (obj[1]) == \"\":\n",
    "            img_cont = {}\n",
    "            for img in all_img_data:\n",
    "                if img['id'] == obj[1]:\n",
    "                    #print('check')\n",
    "                    img_cont = img.copy()\n",
    "                    break\n",
    "            new_post['content'].append((\"\",img_cont))\n",
    "        else:\n",
    "            new_post['content'].append(obj)\n",
    "        obj_num += 1\n",
    "    up_posts_content.append(new_post)"
   ]
  },
  {
   "cell_type": "code",
   "execution_count": 69,
   "metadata": {},
   "outputs": [
    {
     "name": "stdout",
     "output_type": "stream",
     "text": [
      "{'title': 'Seattle to London ✈️', 'content': [('Yesterday morning Kale Sophie and I left for London.', ''), ('', {'id': '89', 'width': 4032, 'height': 3024, 'path': '2023/06/img_0310.jpg'}), ('', {'id': '90', 'width': 3024, 'height': 4032, 'path': '2023/06/img_0309.jpg'}), ('', {'id': '91', 'width': 4032, 'height': 3024, 'path': '2023/06/img_5597.jpg'}), ('', {'id': '108', 'width': 3024, 'height': 3024, 'path': '2023/06/image_editor_output_image1650214385-1686831258266.jpg'}), ('We first had a brief layover in Calgary before our 8 hour flight to London. The flight was long, but between a few naps and watching the new Antman it went by fairly quick. We got through the Gatwick airport around 10am, and took a train into the city. I had an appointment to get my encephalitis shot at 2:30, so we spent our time beforehand walking from the London Bridge to the clinic, stopping at a breakfast place and a park along the way. Kale and I both got English breakfasts, which did not disappoint. ', ''), ('', {'id': '137', 'width': 1600, 'height': 1200, 'path': '2023/06/img-20230615-wa00091557380687551326695.jpg'}), (\"After the clinic, we made our way west, checking out all of the famous sights and a couple pubs. Even though we were only there for one day, we were able to check out St. Paul's Cathedral, Buckingham Palace, Hyde Park, and took an hour nap in St. James Park. Overall I am very impressed with how easy it is to walk or take public transit around the city. We were able to see a lot and didn't feel rushed at all, although we did end up walking a little over 10 miles that day. We were also surprised by the fact that London was a lot less touristy than I imagined, at least while we were there. We saw many locals in suits, and couldn't go a block without hearing one on a business call. \", ''), ('', {'id': '127', 'width': 3024, 'height': 3024, 'path': '2023/06/20230614_1204413109998004323546397.jpg'}), ('', {'id': '128', 'width': 3024, 'height': 3024, 'path': '2023/06/20230614_1213483149982020195304740.jpg'}), ('', {'id': '130', 'width': 3024, 'height': 3024, 'path': '2023/06/20230614_1713067032539887585692283.jpg'}), ('', {'id': '131', 'width': 3024, 'height': 3024, 'path': '2023/06/20230614_1148506335921134432791354.jpg'}), ('', {'id': '135', 'width': 3000, 'height': 2039, 'path': '2023/06/image_editor_output_image1225287972-16868345899989168632997904133101.jpg'}), ('', {'id': '142', 'width': 4032, 'height': 3024, 'path': '2023/06/70844045351__6bbf7f2d-dbc8-4d4c-b12a-1af0079b0184.jpg'}), (\"After some sightseeing we made a pitstop and visited one of Sophie's family friends in London. We took a double decker bus both there and back, which ended up being a great way to see the city.  Afterwards we went to dinner at the Shakespeare Pub, where we tried recreating a picture that Ellie sent us.  However, we realized we only had an hour before the last train to the airport left, so we had to miss out on seeing Big Ben and Westminster Abbey. Sorry London, I guess we'll have to come back.\", ''), ('', {'id': '102', 'width': 1290, 'height': 831, 'path': '2023/06/img_5594.jpg'}), ('', {'id': '103', 'width': 4032, 'height': 3024, 'path': '2023/06/img_5653.jpg'}), ('', '')], 'post_id': '92', 'featured_img': '121'}\n"
     ]
    }
   ],
   "source": [
    "print(up_posts_content[5])"
   ]
  },
  {
   "cell_type": "markdown",
   "metadata": {},
   "source": [
    "Print Data to Docx"
   ]
  },
  {
   "cell_type": "code",
   "execution_count": 103,
   "metadata": {},
   "outputs": [
    {
     "name": "stdout",
     "output_type": "stream",
     "text": [
      "About\n",
      "T-minus 24 Hours\n",
      "The final supper\n",
      "Seattle to London ✈️\n",
      "Shep out\n",
      "Day 1: Reunions and Bulgaria\n"
     ]
    }
   ],
   "source": [
    "\n",
    "from docx import Document\n",
    "from docx.shared import Inches\n",
    "from docx.enum.text import WD_ALIGN_PARAGRAPH\n",
    "from PIL import Image\n",
    "from io import BytesIO\n",
    "#img_path = \"C:/Users/kales/Downloads/media-export-220074516-from-0-to-2745/\"\n",
    "img_path = \"./media-export-220074516-from-0-to-2745/\"\n",
    "doc = Document()\n",
    "doc.add_heading('Tear 2023', 0)\n",
    "doc.add_heading('By: Hunter Hatzenbeler, Kale Strange, Sam Shepard, and Sophie Harris', level=1)\n",
    "imagesList = []\n",
    "img_num = 0\n",
    "for post in up_posts_content[0:8]:\n",
    "    #print(post)\n",
    "    if not ((post['title'] == 'Dinaric Alps Gallery') or (post['title'] == 'Swiss Alps Gallery')):\n",
    "        doc.add_section()\n",
    "        doc.add_heading(post['title'], level=1)\n",
    "        #if len(post['content']) > 1:\n",
    "        #    if post['content'][1] == \"\":\n",
    "        #        builder.writeln(post['content'][0])\n",
    "        print(post['title'])\n",
    "        fImagePath = \"\"\n",
    "        if not (post['featured_img'] == \"\"):\n",
    "            imgID = post['featured_img']\n",
    "            for img in all_img_data:\n",
    "                if (img['id'] == imgID):\n",
    "                    fImagePath = img['path']\n",
    "                    #Decrease image resolution by factor of 5 (for testing). It takes longer, but much smaller file size \n",
    "                    temp_image = Image.open(img_path + fImagePath)\n",
    "                    im_w, im_h = temp_image.size\n",
    "                    im_resized = temp_image.resize((int(im_w/5), int(im_h/5)), Image.Resampling.LANCZOS)\n",
    "                    #print(im_resized.tobytes(\"raw\"))\n",
    "                    #img_bytes = BytesIO(im_resized.tobytes(\"raw\"))\n",
    "                    img_bytes = BytesIO()\n",
    "                    im_resized.save(img_bytes, format=\"PNG\")\n",
    "                    #print(img_bytes)\n",
    "                    doc.add_picture(img_bytes, width=Inches(4))\n",
    "                    #doc.add_picture((img_path + fImagePath), width=Inches(4))\n",
    "                    doc.paragraphs[-1].alignment = WD_ALIGN_PARAGRAPH.CENTER\n",
    "                    break\n",
    "        for content in post['content']:\n",
    "            #img_num = 1\n",
    "            if content[1] == \"\":\n",
    "                if not img_num == 0:\n",
    "                    print_images(imagesList, doc)\n",
    "                imagesList = []\n",
    "                doc.add_paragraph(content[0])\n",
    "                img_num = 0\n",
    "            else: \n",
    "                #print(content[1])\n",
    "                if not (content[1]['id'] == post['featured_img']):\n",
    "                    imagesList.append(content[1])\n",
    "                    img_num += 1\n",
    "                    \"\"\"\n",
    "                    ext_img_path = content[1]['path']\n",
    "                    temp_image = Image.open(img_path + ext_img_path)\n",
    "                    im_w, im_h = temp_image.size\n",
    "                    im_resized = temp_image.resize((int(im_w/5), int(im_h/5)), Image.Resampling.LANCZOS)\n",
    "                    img_bytes = BytesIO()\n",
    "                    im_resized.save(img_bytes, format=\"PNG\")\n",
    "                    if (img_num == 0):\n",
    "                        doc.add_picture(img_bytes, width=Inches(2.5))\n",
    "                        #doc.add_picture((img_path + content[1]), width=Inches(2.5))\n",
    "                        doc.paragraphs[-1].alignment = WD_ALIGN_PARAGRAPH.CENTER\n",
    "                        img_num = 1\n",
    "                    else:\n",
    "                        newRun = doc.paragraphs[-1].add_run()\n",
    "                        newRun.add_picture(img_bytes, width=Inches(2.5))\n",
    "                        img_num = 1\n",
    "                    \"\"\"\n",
    "        if not img_num == 0:\n",
    "            print_images(imagesList, doc)\n",
    "        imagesList = []\n",
    "        img_num = 0\n",
    "#doc.update_fields()\n",
    "doc.save(\"out.docx\")"
   ]
  },
  {
   "cell_type": "code",
   "execution_count": 102,
   "metadata": {},
   "outputs": [],
   "source": [
    "def print_images(images, doc):\n",
    "    img_num = 0\n",
    "    total_width = 5\n",
    "    image_makeup = {\n",
    "        'tall': [],\n",
    "        'short': []\n",
    "    }\n",
    "    for image in images:\n",
    "        if float(image['width']) >= float(img['height']):\n",
    "            image_makeup['short'].append(image)\n",
    "        else:\n",
    "            image_makeup['tall'].append(image)\n",
    "    num_short = len(image_makeup['short'])\n",
    "    num_tall = len(image_makeup['tall'])\n",
    "    for image in image_makeup['short']:\n",
    "        if (img_num == 0):\n",
    "            prevImg = [img_to_bytes(image), float(image['width']), float(image['height'])]\n",
    "            img_num = 1\n",
    "        else:\n",
    "            newImg = img_to_bytes(image)\n",
    "            #make image height equal\n",
    "            hRatio = int(image['height'])/prevImg[2]\n",
    "            wratio = int(image['width'])/(int(image['width'])+(prevImg[1] * hRatio))\n",
    "            doc.add_picture(prevImg[0], width=Inches(total_width*(1-wratio)))\n",
    "            doc.paragraphs[-1].alignment = WD_ALIGN_PARAGRAPH.CENTER\n",
    "            newRun = doc.paragraphs[-1].add_run()\n",
    "            newRun.add_picture(newImg, width=Inches(total_width*wratio))\n",
    "            img_num = 0\n",
    "    if img_num == 1:\n",
    "        doc.add_picture(prevImg[0], width=Inches(2.5))\n",
    "        doc.paragraphs[-1].alignment = WD_ALIGN_PARAGRAPH.CENTER\n",
    "    for image in image_makeup['tall']:\n",
    "        imBytes = img_to_bytes(image)\n",
    "        doc.add_picture(imBytes, width=Inches(2.5))\n",
    "        doc.paragraphs[-1].alignment = WD_ALIGN_PARAGRAPH.CENTER\n",
    "\n",
    "    \"\"\"\n",
    "    for image in images:\n",
    "        ext_img_path = image['path']\n",
    "        temp_image = Image.open(img_path + ext_img_path)\n",
    "        im_w, im_h = temp_image.size\n",
    "        im_resized = temp_image.resize((int(im_w/10), int(im_h/10)), Image.Resampling.LANCZOS)\n",
    "        img_bytes = BytesIO()\n",
    "        im_resized.save(img_bytes, format=\"PNG\")\n",
    "        if (img_num == 0):\n",
    "            doc.add_picture(img_bytes, width=Inches(2.5))\n",
    "            #doc.add_picture((img_path + ext_img_path), width=Inches(2.5))\n",
    "            doc.paragraphs[-1].alignment = WD_ALIGN_PARAGRAPH.CENTER\n",
    "            img_num = 1\n",
    "        else:\n",
    "            newRun = doc.paragraphs[-1].add_run()\n",
    "            newRun.add_picture(img_bytes, width=Inches(2.5))\n",
    "            img_num = 0\n",
    "    \"\"\""
   ]
  },
  {
   "cell_type": "code",
   "execution_count": 96,
   "metadata": {},
   "outputs": [],
   "source": [
    "def img_to_bytes(image):\n",
    "    ext_img_path = image['path']\n",
    "    temp_image = Image.open(img_path + ext_img_path)\n",
    "    im_w, im_h = temp_image.size\n",
    "    im_resized = temp_image.resize((int(im_w/10), int(im_h/10)), Image.Resampling.LANCZOS)\n",
    "    img_bytes = BytesIO()\n",
    "    im_resized.save(img_bytes, format=\"PNG\")\n",
    "    return img_bytes"
   ]
  }
 ],
 "metadata": {
  "kernelspec": {
   "display_name": "Python 3",
   "language": "python",
   "name": "python3"
  },
  "language_info": {
   "codemirror_mode": {
    "name": "ipython",
    "version": 3
   },
   "file_extension": ".py",
   "mimetype": "text/x-python",
   "name": "python",
   "nbconvert_exporter": "python",
   "pygments_lexer": "ipython3",
   "version": "3.11.3"
  }
 },
 "nbformat": 4,
 "nbformat_minor": 2
}
